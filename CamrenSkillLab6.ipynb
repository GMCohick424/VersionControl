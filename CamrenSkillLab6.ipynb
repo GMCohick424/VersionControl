{
 "cells": [
  {
   "cell_type": "code",
   "execution_count": 6,
   "id": "9f11f4cc-6565-4396-aabb-f5ffe94a914e",
   "metadata": {},
   "outputs": [
    {
     "name": "stdout",
     "output_type": "stream",
     "text": [
      "Hello user. This program exponentiates two integers.\n",
      "Please input the first integer (One being exponentiated)\n"
     ]
    },
    {
     "name": "stdin",
     "output_type": "stream",
     "text": [
      " 10\n"
     ]
    },
    {
     "name": "stdout",
     "output_type": "stream",
     "text": [
      "Please input the second integer (The Exponent)\n"
     ]
    },
    {
     "name": "stdin",
     "output_type": "stream",
     "text": [
      " 2\n"
     ]
    },
    {
     "name": "stdout",
     "output_type": "stream",
     "text": [
      "Your exponentiated value is 100\n"
     ]
    }
   ],
   "source": [
    "print(\"Hello user. This program exponentiates two integers.\")\n",
    "print(\"Please input the first integer (One being exponentiated)\")\n",
    "while True:\n",
    "    try:\n",
    "        integerone = input()\n",
    "        integerone = int(integerone)\n",
    "    except:\n",
    "        print(\"this code requires an integer, please insert an integer this time\")\n",
    "        continue\n",
    "    break\n",
    "print(\"Please input the second integer (The Exponent)\")\n",
    "while True:\n",
    "    try:\n",
    "        integertwo = input()\n",
    "        integertwo = int(integertwo)\n",
    "    except:\n",
    "        print(\"this code requires an integer, please insert an integer this time\")\n",
    "        continue\n",
    "    break\n",
    "finalinteger = integerone**integertwo\n",
    "print(\"Your exponentiated value is\", finalinteger)"
   ]
  },
  {
   "cell_type": "code",
   "execution_count": null,
   "id": "d9715585-d5c7-4efc-ae11-23acefd1d78b",
   "metadata": {},
   "outputs": [],
   "source": []
  }
 ],
 "metadata": {
  "kernelspec": {
   "display_name": "Python 3 (ipykernel)",
   "language": "python",
   "name": "python3"
  },
  "language_info": {
   "codemirror_mode": {
    "name": "ipython",
    "version": 3
   },
   "file_extension": ".py",
   "mimetype": "text/x-python",
   "name": "python",
   "nbconvert_exporter": "python",
   "pygments_lexer": "ipython3",
   "version": "3.12.4"
  }
 },
 "nbformat": 4,
 "nbformat_minor": 5
}
